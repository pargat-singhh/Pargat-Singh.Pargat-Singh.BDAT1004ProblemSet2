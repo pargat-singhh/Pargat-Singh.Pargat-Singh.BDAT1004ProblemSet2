{
 "cells": [
  {
   "cell_type": "markdown",
   "id": "3dad4b33",
   "metadata": {},
   "source": [
    "# Problem Set 2"
   ]
  },
  {
   "cell_type": "markdown",
   "id": "8f41a75d",
   "metadata": {},
   "source": [
    "##  "
   ]
  },
  {
   "cell_type": "markdown",
   "id": "696f031f",
   "metadata": {},
   "source": [
    "## Question 1"
   ]
  },
  {
   "cell_type": "code",
   "execution_count": 1,
   "id": "1e31fc8b",
   "metadata": {},
   "outputs": [],
   "source": [
    "a = 0\n",
    "def b():\n",
    " global a\n",
    " a = c(a)\n",
    "def c(a):\n",
    " return a + 2"
   ]
  },
  {
   "cell_type": "code",
   "execution_count": 2,
   "id": "41df7e87",
   "metadata": {},
   "outputs": [],
   "source": [
    "b()  #first call"
   ]
  },
  {
   "cell_type": "code",
   "execution_count": 3,
   "id": "95acc268",
   "metadata": {},
   "outputs": [],
   "source": [
    "b()   #second call"
   ]
  },
  {
   "cell_type": "code",
   "execution_count": 4,
   "id": "abf2bca8",
   "metadata": {},
   "outputs": [],
   "source": [
    "b()    #third call"
   ]
  },
  {
   "cell_type": "code",
   "execution_count": 5,
   "id": "c7f38aa5",
   "metadata": {},
   "outputs": [
    {
     "data": {
      "text/plain": [
       "6"
      ]
     },
     "execution_count": 5,
     "metadata": {},
     "output_type": "execute_result"
    }
   ],
   "source": [
    "a       #printing final value"
   ]
  },
  {
   "cell_type": "markdown",
   "id": "c8d06832",
   "metadata": {},
   "source": [
    "**Explaination:**\n",
    "\"a\" is a global variable and is used in b & c and its intial value is 0. \n",
    "Each time 2 is added to previous value of \"a\" (i.e. its value raise by 2) when function b() is called. \n",
    "\n",
    "In the first step,  when a=0, then b()= 0+2= 2\n",
    "\n",
    "In the second step, when a=2, then b()= 2+2= 4\n",
    "\n",
    "In the third step,  when a=4, then b()= 4+2= 6\n",
    "\n",
    "So, at this step when we printed value of \"a\" we got 6 as output"
   ]
  },
  {
   "cell_type": "markdown",
   "id": "d9d57155",
   "metadata": {},
   "source": [
    "#                                                                                     "
   ]
  },
  {
   "cell_type": "markdown",
   "id": "09f98ca8",
   "metadata": {},
   "source": [
    "## Question 2"
   ]
  },
  {
   "cell_type": "code",
   "execution_count": 6,
   "id": "6d90cebb",
   "metadata": {},
   "outputs": [],
   "source": [
    "def filelength(myFile):\n",
    "    try:\n",
    "        testFile = open(myFile, mode='r')        # opening and reading file\n",
    "        wordsInIt=testFile.read()\n",
    "        print(str(len(wordsInIt)))\n",
    "        testFile.close()\n",
    "    except:\n",
    "            print('File '+myFile+' not found.')       # file not in same directory or if misspelled"
   ]
  },
  {
   "cell_type": "code",
   "execution_count": 7,
   "id": "6eb392f9",
   "metadata": {},
   "outputs": [
    {
     "name": "stdout",
     "output_type": "stream",
     "text": [
      "477\n"
     ]
    }
   ],
   "source": [
    "filelength(\"currencies.txt\")"
   ]
  },
  {
   "cell_type": "code",
   "execution_count": 8,
   "id": "c5fb608f",
   "metadata": {},
   "outputs": [
    {
     "name": "stdout",
     "output_type": "stream",
     "text": [
      "File idterm.py not found.\n"
     ]
    }
   ],
   "source": [
    "filelength(\"idterm.py\")"
   ]
  },
  {
   "cell_type": "markdown",
   "id": "c2577295",
   "metadata": {},
   "source": [
    "#  "
   ]
  },
  {
   "cell_type": "markdown",
   "id": "ffda82e6",
   "metadata": {},
   "source": [
    "## Question 3"
   ]
  },
  {
   "cell_type": "code",
   "execution_count": 9,
   "id": "6282ee77",
   "metadata": {},
   "outputs": [],
   "source": [
    " class Marsupial:\n",
    "    def __init__(abc):\n",
    "        abc.lst = []\n",
    "\n",
    "    def put_in_pouch(abc, thing):\n",
    "        abc.lst.append(thing)\n",
    "\n",
    "    def pouch_contents(abc):\n",
    "        return abc.lst"
   ]
  },
  {
   "cell_type": "code",
   "execution_count": 10,
   "id": "910c5aa8",
   "metadata": {},
   "outputs": [
    {
     "data": {
      "text/plain": [
       "['doll', 'firetruck', 'kitten']"
      ]
     },
     "execution_count": 10,
     "metadata": {},
     "output_type": "execute_result"
    }
   ],
   "source": [
    "    m = Marsupial()\n",
    "    m.put_in_pouch('doll')\n",
    "    m.put_in_pouch('firetruck')\n",
    "    m.put_in_pouch('kitten')\n",
    "    m.pouch_contents()"
   ]
  },
  {
   "cell_type": "code",
   "execution_count": 11,
   "id": "2a96fdfd",
   "metadata": {},
   "outputs": [],
   "source": [
    "   class Kangaroo(Marsupial):\n",
    "        def __init__(abc,x,y):\n",
    "            Marsupial.__init__(abc)\n",
    "            abc.x = x\n",
    "            abc.y = y\n",
    "    \n",
    "        def jump(abc,dx,dy): \n",
    "            abc.x = abc.x + dx\n",
    "            abc.y = abc.y + dy\n",
    "        \n",
    "        def __str__(abc):\n",
    "            return 'I am a kangaroo located at at coordinates ({},{})'.format(abc.x, abc.y)    "
   ]
  },
  {
   "cell_type": "code",
   "execution_count": 12,
   "id": "f03ad28d",
   "metadata": {},
   "outputs": [
    {
     "name": "stdout",
     "output_type": "stream",
     "text": [
      "I am a kangaroo located at at coordinates (0,0)\n"
     ]
    }
   ],
   "source": [
    "k = Kangaroo(0,0)\n",
    "print(k)"
   ]
  },
  {
   "cell_type": "code",
   "execution_count": 13,
   "id": "36a7a963",
   "metadata": {},
   "outputs": [
    {
     "data": {
      "text/plain": [
       "['doll', 'firetruck', 'kitten']"
      ]
     },
     "execution_count": 13,
     "metadata": {},
     "output_type": "execute_result"
    }
   ],
   "source": [
    "k.put_in_pouch('doll')\n",
    "k.put_in_pouch('firetruck')\n",
    "k.put_in_pouch('kitten')\n",
    "k.pouch_contents()"
   ]
  },
  {
   "cell_type": "code",
   "execution_count": 14,
   "id": "d89f2a20",
   "metadata": {},
   "outputs": [
    {
     "name": "stdout",
     "output_type": "stream",
     "text": [
      "I am a kangaroo located at at coordinates (3,0)\n"
     ]
    }
   ],
   "source": [
    "k.jump(1,0)\n",
    "k.jump(1,0)\n",
    "k.jump(1,0)\n",
    "print(k)"
   ]
  },
  {
   "cell_type": "markdown",
   "id": "f44a4a92",
   "metadata": {},
   "source": [
    "#  "
   ]
  },
  {
   "cell_type": "markdown",
   "id": "52f4c80f",
   "metadata": {},
   "source": [
    "## Question 4"
   ]
  },
  {
   "cell_type": "code",
   "execution_count": 15,
   "id": "4deb1a61",
   "metadata": {},
   "outputs": [],
   "source": [
    "def collatz(x):                   \n",
    "    if x != 1:\n",
    "        if x%2 == 0:               \n",
    "            print(int(x))         #even\n",
    "            collatz(x/2)       \n",
    "        \n",
    "        else:\n",
    "            print(int(x))         # odd\n",
    "            collatz(3*x+1)          \n",
    "  \n",
    "    else:\n",
    "        print(int(x)); "
   ]
  },
  {
   "cell_type": "code",
   "execution_count": 16,
   "id": "a06ebef6",
   "metadata": {},
   "outputs": [
    {
     "name": "stdout",
     "output_type": "stream",
     "text": [
      "1\n"
     ]
    }
   ],
   "source": [
    "collatz(1)"
   ]
  },
  {
   "cell_type": "code",
   "execution_count": 17,
   "id": "550df6c1",
   "metadata": {},
   "outputs": [
    {
     "name": "stdout",
     "output_type": "stream",
     "text": [
      "10\n",
      "5\n",
      "16\n",
      "8\n",
      "4\n",
      "2\n",
      "1\n"
     ]
    }
   ],
   "source": [
    "collatz(10)"
   ]
  },
  {
   "cell_type": "markdown",
   "id": "d66f6722",
   "metadata": {},
   "source": [
    "# "
   ]
  },
  {
   "cell_type": "markdown",
   "id": "e93225b3",
   "metadata": {},
   "source": [
    "## Question 5"
   ]
  },
  {
   "cell_type": "code",
   "execution_count": 18,
   "id": "3c7b232c",
   "metadata": {},
   "outputs": [],
   "source": [
    "def binary(n):\n",
    "     if n == 0:\n",
    "        return 0\n",
    "     elif n > 0:\n",
    "        return (n % 2 + 10 * binary(int(n // 2)))      #positive integer more than 0\n",
    "     else:\n",
    "        return 'Insert a non-negative integer'          #if integer is negative"
   ]
  },
  {
   "cell_type": "code",
   "execution_count": 19,
   "id": "477287f5",
   "metadata": {},
   "outputs": [
    {
     "data": {
      "text/plain": [
       "0"
      ]
     },
     "execution_count": 19,
     "metadata": {},
     "output_type": "execute_result"
    }
   ],
   "source": [
    "binary(0)"
   ]
  },
  {
   "cell_type": "code",
   "execution_count": 20,
   "id": "a07d91cd",
   "metadata": {},
   "outputs": [
    {
     "data": {
      "text/plain": [
       "1"
      ]
     },
     "execution_count": 20,
     "metadata": {},
     "output_type": "execute_result"
    }
   ],
   "source": [
    "binary(1)"
   ]
  },
  {
   "cell_type": "code",
   "execution_count": 21,
   "id": "bbb214e9",
   "metadata": {},
   "outputs": [
    {
     "data": {
      "text/plain": [
       "11"
      ]
     },
     "execution_count": 21,
     "metadata": {},
     "output_type": "execute_result"
    }
   ],
   "source": [
    "binary(3)"
   ]
  },
  {
   "cell_type": "code",
   "execution_count": 22,
   "id": "af63f629",
   "metadata": {},
   "outputs": [
    {
     "data": {
      "text/plain": [
       "1001"
      ]
     },
     "execution_count": 22,
     "metadata": {},
     "output_type": "execute_result"
    }
   ],
   "source": [
    "binary(9)"
   ]
  },
  {
   "cell_type": "markdown",
   "id": "b7e2aa33",
   "metadata": {},
   "source": [
    "# "
   ]
  },
  {
   "cell_type": "markdown",
   "id": "e7bf2d67",
   "metadata": {},
   "source": [
    "## Question 6"
   ]
  },
  {
   "cell_type": "code",
   "execution_count": 23,
   "id": "6b9cf510",
   "metadata": {},
   "outputs": [],
   "source": [
    "from html.parser import HTMLParser\n",
    "class HeadingParser(HTMLParser):   \n",
    "    def __init__(xyz):\n",
    "        HTMLParser.__init__(xyz)\n",
    "        xyz.head =0      \n",
    "        xyz.intend = \"\"\n",
    "        \n",
    "    def handle_starttag(xyz, tag, attrs):\n",
    "        if tag[:-1]=='h':\n",
    "            xyz.head = \"type\"\n",
    "            \n",
    "    def handle_data(xyz, data):\n",
    "        if xyz.head==\"type\":\n",
    "            print(xyz.intend+ data)\n",
    "            xyz.intend+= \"    \"\n",
    "            xyz.head=0"
   ]
  },
  {
   "cell_type": "code",
   "execution_count": 24,
   "id": "b908b853",
   "metadata": {},
   "outputs": [
    {
     "name": "stdout",
     "output_type": "stream",
     "text": [
      "W3C Mission\n",
      "    Principles\n"
     ]
    }
   ],
   "source": [
    "infile = open('w3c.html')\n",
    "content = infile.read()\n",
    "infile.close()\n",
    "hp = HeadingParser()\n",
    "hp.feed(content)"
   ]
  },
  {
   "cell_type": "markdown",
   "id": "a68607fb",
   "metadata": {},
   "source": [
    "# "
   ]
  },
  {
   "cell_type": "markdown",
   "id": "043789fa",
   "metadata": {},
   "source": [
    "## Question 8"
   ]
  },
  {
   "cell_type": "code",
   "execution_count": 25,
   "id": "25fc9508",
   "metadata": {},
   "outputs": [],
   "source": [
    "import sqlite3\n",
    "\n",
    "con = sqlite3.connect('Thisdb')\n",
    "\n",
    "cur = con.cursor()\n",
    "\n",
    "cur.execute(\"CREATE TABLE global_climates (City text, Country text, Season text, Temperature dec, Rainfall dec)\")\n",
    "\n",
    "cur.execute(\"INSERT INTO global_climates VALUES ('Mumbai', 'India', 'Winter', 24.8, 5.9)\")\n",
    "\n",
    "cur.execute(\"INSERT INTO global_climates VALUES ('Mumbai', 'India', 'Spring', 28.4, 16.2)\")\n",
    "\n",
    "cur.execute(\"INSERT INTO global_climates VALUES ('Mumbai', 'India', 'Summer', 27.9, 1549.4)\")\n",
    "\n",
    "cur.execute(\"INSERT INTO global_climates VALUES ('Mumbai', 'India', 'Fall', 27.6, 346.0)\")\n",
    "\n",
    "cur.execute(\"INSERT INTO global_climates VALUES ('London', 'United Kingdom', 'Winter', 4.2, 207.7)\")\n",
    "\n",
    "cur.execute(\"INSERT INTO global_climates VALUES ('London', 'United Kingdom', 'Spring', 8.3, 169.6)\")\n",
    "\n",
    "cur.execute(\"INSERT INTO global_climates VALUES ('London', 'United Kingdom', 'Summer', 15.7, 157.0)\")\n",
    "\n",
    "cur.execute(\"INSERT INTO global_climates VALUES ('London', 'United Kingdom', 'Fall', 10.4, 218.5)\")\n",
    "\n",
    "cur.execute(\"INSERT INTO global_climates VALUES ('Cairo', 'Egypt', 'Winter', 13.6, 16.5)\")\n",
    "\n",
    "cur.execute(\"INSERT INTO global_climates VALUES ('Cairo', 'Egypt', 'Spring', 20.7, 6.5)\")\n",
    "\n",
    "cur.execute(\"INSERT INTO global_climates VALUES ('Cairo', 'Egypt', 'Summer', 27.7, 0.1)\")\n",
    "\n",
    "cur.execute(\"INSERT INTO global_climates VALUES ('Cairo', 'Egypt', 'Fall', 22.2, 4.5)\")\n",
    "\n",
    "con.commit()\n",
    "con.close()"
   ]
  },
  {
   "cell_type": "markdown",
   "id": "21dd4c46",
   "metadata": {},
   "source": [
    "## a)"
   ]
  },
  {
   "cell_type": "code",
   "execution_count": 26,
   "id": "f4c19150",
   "metadata": {},
   "outputs": [
    {
     "name": "stdout",
     "output_type": "stream",
     "text": [
      "(24.8,)\n",
      "(28.4,)\n",
      "(27.9,)\n",
      "(27.6,)\n",
      "(4.2,)\n",
      "(8.3,)\n",
      "(15.7,)\n",
      "(10.4,)\n",
      "(13.6,)\n",
      "(20.7,)\n",
      "(27.7,)\n",
      "(22.2,)\n"
     ]
    }
   ],
   "source": [
    "con = sqlite3.connect('Thisdb')\n",
    "cur = con.cursor()\n",
    "\n",
    "cur.execute('SELECT Temperature FROM global_climates')                 #All the temperature data\n",
    "for record in cur:\n",
    "    print(record)"
   ]
  },
  {
   "cell_type": "markdown",
   "id": "2dbb47b0",
   "metadata": {},
   "source": [
    "## b)"
   ]
  },
  {
   "cell_type": "code",
   "execution_count": 27,
   "id": "5c8937c2",
   "metadata": {},
   "outputs": [
    {
     "name": "stdout",
     "output_type": "stream",
     "text": [
      "('Mumbai',)\n",
      "('London',)\n",
      "('Cairo',)\n"
     ]
    }
   ],
   "source": [
    "cur.execute('SELECT DISTINCT City FROM global_climates')            # All the cities, but without repetition\n",
    "for record in cur:\n",
    "    print(record)"
   ]
  },
  {
   "cell_type": "markdown",
   "id": "9628ee88",
   "metadata": {},
   "source": [
    "## c)"
   ]
  },
  {
   "cell_type": "code",
   "execution_count": 28,
   "id": "21d2b990",
   "metadata": {},
   "outputs": [
    {
     "name": "stdout",
     "output_type": "stream",
     "text": [
      "('Mumbai', 'India', 'Winter', 24.8, 5.9)\n",
      "('Mumbai', 'India', 'Spring', 28.4, 16.2)\n",
      "('Mumbai', 'India', 'Summer', 27.9, 1549.4)\n",
      "('Mumbai', 'India', 'Fall', 27.6, 346)\n"
     ]
    }
   ],
   "source": [
    "cur.execute(\"SELECT * FROM global_climates where Country=='India'\")        #  All the records for India\n",
    "for record in cur:\n",
    "    print(record)"
   ]
  },
  {
   "cell_type": "markdown",
   "id": "43859080",
   "metadata": {},
   "source": [
    "## d)"
   ]
  },
  {
   "cell_type": "code",
   "execution_count": 29,
   "id": "97ef8d90",
   "metadata": {},
   "outputs": [
    {
     "name": "stdout",
     "output_type": "stream",
     "text": [
      "('Mumbai', 'India', 'Fall', 27.6, 346)\n",
      "('London', 'United Kingdom', 'Fall', 10.4, 218.5)\n",
      "('Cairo', 'Egypt', 'Fall', 22.2, 4.5)\n"
     ]
    }
   ],
   "source": [
    "cur.execute(\"SELECT * FROM global_climates where Season=='Fall'\")     # All the Fall records\n",
    "for record in cur:\n",
    "    print(record)"
   ]
  },
  {
   "cell_type": "markdown",
   "id": "7e734497",
   "metadata": {},
   "source": [
    "## e)"
   ]
  },
  {
   "cell_type": "code",
   "execution_count": 30,
   "id": "06bd0411",
   "metadata": {},
   "outputs": [
    {
     "name": "stdout",
     "output_type": "stream",
     "text": [
      "('Mumbai', 'India', 'Fall')\n",
      "('London', 'United Kingdom', 'Winter')\n",
      "('London', 'United Kingdom', 'Fall')\n"
     ]
    }
   ],
   "source": [
    "cur.execute(\"SELECT City, Country, Season FROM global_climates where Rainfall between 200 and 400\")\n",
    "for record in cur:\n",
    "    print(record)"
   ]
  },
  {
   "cell_type": "markdown",
   "id": "b90753f9",
   "metadata": {},
   "source": [
    "## f)"
   ]
  },
  {
   "cell_type": "code",
   "execution_count": 31,
   "id": "77f45e08",
   "metadata": {},
   "outputs": [
    {
     "name": "stdout",
     "output_type": "stream",
     "text": [
      "('Cairo', 'Egypt')\n",
      "('Mumbai', 'India')\n"
     ]
    }
   ],
   "source": [
    "cur.execute(\"SELECT City, Country FROM global_climates where Season=='Fall' and Temperature>20 ORDER BY Temperature ASC\")\n",
    "for record in cur:\n",
    "    print(record)"
   ]
  },
  {
   "cell_type": "markdown",
   "id": "5f067515",
   "metadata": {},
   "source": [
    "## g) "
   ]
  },
  {
   "cell_type": "code",
   "execution_count": 32,
   "id": "5e5c9851",
   "metadata": {},
   "outputs": [
    {
     "name": "stdout",
     "output_type": "stream",
     "text": [
      "(27.6,)\n"
     ]
    }
   ],
   "source": [
    "cur.execute(\"SELECT SUM(Rainfall) FROM global_climates where City=='Cairo'\")       # The total annual rainfall for Cairo\n",
    "for record in cur:\n",
    "    print(record)"
   ]
  },
  {
   "cell_type": "markdown",
   "id": "a3e128b1",
   "metadata": {},
   "source": [
    "## h)"
   ]
  },
  {
   "cell_type": "code",
   "execution_count": 33,
   "id": "ce0dfee2",
   "metadata": {},
   "outputs": [
    {
     "name": "stdout",
     "output_type": "stream",
     "text": [
      "(569.0, 'Fall')\n",
      "(192.29999999999998, 'Spring')\n",
      "(1706.5, 'Summer')\n",
      "(230.1, 'Winter')\n"
     ]
    }
   ],
   "source": [
    "cur.execute(\"SELECT SUM(Rainfall), Season FROM global_climates GROUP BY Season\")        # The total rainfall for each season\n",
    "for record in cur:\n",
    "    print(record)\n",
    "    \n",
    "con.close() "
   ]
  },
  {
   "cell_type": "markdown",
   "id": "f634d218",
   "metadata": {},
   "source": [
    "# "
   ]
  },
  {
   "cell_type": "markdown",
   "id": "75943275",
   "metadata": {},
   "source": [
    "## Question 9"
   ]
  },
  {
   "cell_type": "code",
   "execution_count": 34,
   "id": "8f6ed343",
   "metadata": {},
   "outputs": [],
   "source": [
    "words = ['The', 'quick', 'brown', 'fox', 'jumps', 'over','the', 'lazy', 'dog']     #creating list"
   ]
  },
  {
   "cell_type": "markdown",
   "id": "e8cd0c67",
   "metadata": {},
   "source": [
    "## a)"
   ]
  },
  {
   "cell_type": "code",
   "execution_count": 35,
   "id": "b9e53665",
   "metadata": {},
   "outputs": [
    {
     "data": {
      "text/plain": [
       "['THE', 'QUICK', 'BROWN', 'FOX', 'JUMPS', 'OVER', 'THE', 'LAZY', 'DOG']"
      ]
     },
     "execution_count": 35,
     "metadata": {},
     "output_type": "execute_result"
    }
   ],
   "source": [
    "[a.upper() for a in words]               # list in uppercase only"
   ]
  },
  {
   "cell_type": "markdown",
   "id": "02aa0841",
   "metadata": {},
   "source": [
    "## b)"
   ]
  },
  {
   "cell_type": "code",
   "execution_count": 36,
   "id": "4f1d44ee",
   "metadata": {},
   "outputs": [
    {
     "data": {
      "text/plain": [
       "['the', 'quick', 'brown', 'fox', 'jumps', 'over', 'the', 'lazy', 'dog']"
      ]
     },
     "execution_count": 36,
     "metadata": {},
     "output_type": "execute_result"
    }
   ],
   "source": [
    "[b.lower() for b in words]              # list in lowercase only"
   ]
  },
  {
   "cell_type": "markdown",
   "id": "4b1367ae",
   "metadata": {},
   "source": [
    "## c)"
   ]
  },
  {
   "cell_type": "code",
   "execution_count": 37,
   "id": "db5353b9",
   "metadata": {},
   "outputs": [
    {
     "data": {
      "text/plain": [
       "[3, 5, 5, 3, 5, 4, 3, 4, 3]"
      ]
     },
     "execution_count": 37,
     "metadata": {},
     "output_type": "execute_result"
    }
   ],
   "source": [
    "[len(c) for c in words]               # length of each word in list"
   ]
  },
  {
   "cell_type": "markdown",
   "id": "087e069b",
   "metadata": {},
   "source": [
    "## d) "
   ]
  },
  {
   "cell_type": "code",
   "execution_count": 38,
   "id": "a900aa2c",
   "metadata": {},
   "outputs": [
    {
     "data": {
      "text/plain": [
       "[['THE', 'the', 3],\n",
       " ['QUICK', 'quick', 5],\n",
       " ['BROWN', 'brown', 5],\n",
       " ['FOX', 'fox', 3],\n",
       " ['JUMPS', 'jumps', 5],\n",
       " ['OVER', 'over', 4],\n",
       " ['THE', 'the', 3],\n",
       " ['LAZY', 'lazy', 4],\n",
       " ['DOG', 'dog', 3]]"
      ]
     },
     "execution_count": 38,
     "metadata": {},
     "output_type": "execute_result"
    }
   ],
   "source": [
    "[[d.upper(), d.lower(), len(d)] for d in words]      # list containing uppercase, lowercase and the length of the word"
   ]
  },
  {
   "cell_type": "markdown",
   "id": "a3ae9d24",
   "metadata": {},
   "source": [
    "## e)"
   ]
  },
  {
   "cell_type": "code",
   "execution_count": 39,
   "id": "ca97faa7",
   "metadata": {},
   "outputs": [
    {
     "data": {
      "text/plain": [
       "['quick', 'brown', 'jumps', 'over', 'lazy']"
      ]
     },
     "execution_count": 39,
     "metadata": {},
     "output_type": "execute_result"
    }
   ],
   "source": [
    "[e for e in words if len(e) >= 4]                # list containing words having 4 or more characters"
   ]
  },
  {
   "cell_type": "markdown",
   "id": "5641d610",
   "metadata": {},
   "source": [
    "# "
   ]
  },
  {
   "cell_type": "markdown",
   "id": "2f88140e",
   "metadata": {},
   "source": [
    "### -Submitted by Pargat Singh"
   ]
  }
 ],
 "metadata": {
  "kernelspec": {
   "display_name": "Python 3 (ipykernel)",
   "language": "python",
   "name": "python3"
  },
  "language_info": {
   "codemirror_mode": {
    "name": "ipython",
    "version": 3
   },
   "file_extension": ".py",
   "mimetype": "text/x-python",
   "name": "python",
   "nbconvert_exporter": "python",
   "pygments_lexer": "ipython3",
   "version": "3.9.12"
  }
 },
 "nbformat": 4,
 "nbformat_minor": 5
}
